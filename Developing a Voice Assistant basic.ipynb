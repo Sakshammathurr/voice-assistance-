{
 "cells": [
  {
   "cell_type": "code",
   "execution_count": 22,
   "id": "6a45a35f",
   "metadata": {},
   "outputs": [],
   "source": [
    "import pyttsx3 ##for the ai to speak,## text to speech library\n",
    "import datetime\n",
    "import speech_recognition as sr ##for getting input voices   ## speech to text library\n",
    "import wikipedia ##for surfing wikipedia\n",
    "import os  ##for opening local files\n",
    "import webbrowser ## for surfing the internet"
   ]
  },
  {
   "cell_type": "code",
   "execution_count": 23,
   "id": "8f744612",
   "metadata": {},
   "outputs": [],
   "source": [
    "engine = pyttsx3.init('sapi5')\n",
    "voices = engine.getProperty('voices')\n",
    "engine.setProperty('voice', voices[0].id)"
   ]
  },
  {
   "cell_type": "code",
   "execution_count": 24,
   "id": "f568f347",
   "metadata": {},
   "outputs": [],
   "source": [
    "#print(voices[1].id)"
   ]
  },
  {
   "cell_type": "code",
   "execution_count": 25,
   "id": "749a701a",
   "metadata": {},
   "outputs": [],
   "source": [
    "def speak(audio):\n",
    "    engine.say(audio)\n",
    "    engine.runAndWait()\n",
    "\n",
    "def greet():\n",
    "    hour = int(datetime.datetime.now().hour)\n",
    "    if hour>=0 and hour<12:\n",
    "        speak(\"It is a fine morning sir !\")\n",
    "\n",
    "    elif hour>=12 and hour<18:\n",
    "        speak(\"Hope you had your brunch, Good Afternoon Sir !\")   \n",
    "\n",
    "    else:\n",
    "        speak(\"The wind is lovely, Good Evening sir !\")  \n",
    "\n",
    "    speak(\"Hello How are you? I am your personel AI Assistant Dave! How can I be of service\")"
   ]
  },
  {
   "cell_type": "code",
   "execution_count": 26,
   "id": "0b5b6dbb",
   "metadata": {},
   "outputs": [],
   "source": [
    "def command():\n",
    "    \n",
    "\n",
    "    r = sr.Recognizer()\n",
    "    with sr.Microphone() as source:\n",
    "        print(\"Listening...\")\n",
    "        r.pause_threshold = 1.2\n",
    "        audio = r.listen(source)\n",
    "\n",
    "    try:\n",
    "        print(\"Recognizing...\")    \n",
    "        query = r.recognize_google(audio, language='en-in')  ##speech to text\n",
    "        print(f\"You said: {query}\\n\")\n",
    "\n",
    "    except Exception as e:\n",
    "          \n",
    "        print(\"I could not get you, please speak again\")  \n",
    "        return \"None\"\n",
    "    return query"
   ]
  },
  {
   "cell_type": "code",
   "execution_count": null,
   "id": "37cec641",
   "metadata": {},
   "outputs": [],
   "source": [
    "if __name__ == \"__main__\":\n",
    "    greet()\n",
    "    #while True:\n",
    "    if 1:\n",
    "        query = command().lower()\n",
    "\n",
    "        # Logic for executing tasks based on query\n",
    "        if 'wikipedia' in query:\n",
    "            speak('Searching Wikipedia...')\n",
    "            query = query.replace(\"wikipedia\", \"\")\n",
    "            results = wikipedia.summary(f'{query}', sentences=2)\n",
    "            speak(\"According to Wikipedia\")\n",
    "            print(results)\n",
    "            speak(results)\n",
    "\n",
    "        elif 'open instagram' in query:\n",
    "            webbrowser.open(\"instagram.com\")\n",
    "        \n",
    "        elif 'open youtube' in query:\n",
    "            webbrowser.open(\"youtube.com\")\n",
    "\n",
    "        elif 'open google' in query:\n",
    "            webbrowser.open(\"google.com\")\n",
    "\n",
    "        elif 'open kaggle' in query:\n",
    "            webbrowser.open(\"kaggle.com\") \n",
    "            \n",
    "        \n",
    "        elif 'the weather'in query:\n",
    "            webbrowser.open(\"weather.com\")   \n",
    "\n",
    "        elif 'the score' in query:\n",
    "            webbrowser.open(\"cricbuzz.com\") \n",
    "\n",
    "\n",
    "        elif 'play music' in query:\n",
    "            music_dir = 'Urban Sound\\\\fold2'\n",
    "            songs = os.listdir(music_dir)\n",
    "            print(songs)    \n",
    "            os.startfile(os.path.join(music_dir, songs[0]))\n",
    "\n",
    "        elif 'the time' in query:\n",
    "            strTime = datetime.datetime.now().strftime(\"%H:%M:%S\")    \n",
    "            speak(f\"Sir, the time is {strTime}\")\n",
    "\n",
    "        elif 'open anaconda' in query:\n",
    "            condapath = \"C:\\\\Users\\\\saksham\\\\anaconda3\"\n",
    "            os.startfile(condapath) \n",
    "        \n",
    "        elif 'discord' in query:\n",
    "            calpath = \"C:\\\\Users\\\\saksham\\\\AppData\\\\Local\\\\Discord\\\\app-1.0.9003\"\n",
    "            os.startfile(calpath)"
   ]
  }
 ],
 "metadata": {
  "kernelspec": {
   "display_name": "Python 3 (ipykernel)",
   "language": "python",
   "name": "python3"
  },
  "language_info": {
   "codemirror_mode": {
    "name": "ipython",
    "version": 3
   },
   "file_extension": ".py",
   "mimetype": "text/x-python",
   "name": "python",
   "nbconvert_exporter": "python",
   "pygments_lexer": "ipython3",
   "version": "3.9.13"
  }
 },
 "nbformat": 4,
 "nbformat_minor": 5
}
