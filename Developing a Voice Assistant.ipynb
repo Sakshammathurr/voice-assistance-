{
 "cells": [
  {
   "cell_type": "code",
   "execution_count": 22,
   "id": "6a45a35f",
   "metadata": {},
   "outputs": [],
   "source": [
    "import pyttsx3 ##for the ai to speak,## text to speech library\n",
    "import datetime\n",
    "import speech_recognition as sr ##for getting input voices   ## speech to text library\n",
    "import wikipedia ##for surfing wikipedia\n",
    "import os  ##for opening local files\n",
    "import webbrowser ## for surfing the internet"
   ]
  },
  {
   "cell_type": "code",
   "execution_count": 23,
   "id": "8f744612",
   "metadata": {},
   "outputs": [],
   "source": [
    "engine = pyttsx3.init('sapi5')\n",
    "voices = engine.getProperty('voices')\n",
    "engine.setProperty('voice', voices[0].id)"
   ]
  },
  {
   "cell_type": "code",
   "execution_count": 24,
   "id": "f568f347",
   "metadata": {},
   "outputs": [],
   "source": [
    "#print(voices[1].id)"
   ]
  },
  {
   "cell_type": "code",
   "execution_count": 25,
   "id": "749a701a",
   "metadata": {},
   "outputs": [],
   "source": [
    "def speak(audio):\n",
    "    engine.say(audio)\n",
    "    engine.runAndWait()\n",
    "\n",
    "def greet():\n",
    "    hour = int(datetime.datetime.now().hour)\n",
    "    if hour>=0 and hour<12:\n",
    "        speak(\"It is a fine morning sir !\")\n",
    "\n",
    "    elif hour>=12 and hour<18:\n",
    "        speak(\"Hope you had your brunch, Good Afternoon Sir !\")   \n",
    "\n",
    "    else:\n",
    "        speak(\"The wind is lovely, Good Evening sir !\")  \n",
    "\n",
    "    speak(\"Hello How are you? I am your personel AI Assistant Dave! How can I be of service\")"
   ]
  },
  {
   "cell_type": "code",
   "execution_count": 26,
   "id": "0b5b6dbb",
   "metadata": {},
   "outputs": [],
   "source": [
    "def command():\n",
    "    \n",
    "\n",
    "    r = sr.Recognizer()\n",
    "    with sr.Microphone() as source:\n",
    "        print(\"Listening...\")\n",
    "        r.pause_threshold = 1.2\n",
    "        audio = r.listen(source)\n",
    "\n",
    "    try:\n",
    "        print(\"Recognizing...\")    \n",
    "        query = r.recognize_google(audio, language='en-in')  ##speech to text\n",
    "        print(f\"You said: {query}\\n\")\n",
    "\n",
    "    except Exception as e:\n",
    "          \n",
    "        print(\"I could not get you, please speak again\")  \n",
    "        return \"None\"\n",
    "    return query"
   ]
  },
  {
   "cell_type": "code",
   "execution_count": 27,
   "id": "27afc3bd",
   "metadata": {},
   "outputs": [
    {
     "ename": "AttributeError",
     "evalue": "Could not find PyAudio; check installation",
     "output_type": "error",
     "traceback": [
      "\u001b[1;31m---------------------------------------------------------------------------\u001b[0m",
      "\u001b[1;31mModuleNotFoundError\u001b[0m                       Traceback (most recent call last)",
      "File \u001b[1;32mc:\\Users\\saksh\\AppData\\Local\\Programs\\Python\\Python311\\Lib\\site-packages\\speech_recognition\\__init__.py:108\u001b[0m, in \u001b[0;36mMicrophone.get_pyaudio\u001b[1;34m()\u001b[0m\n\u001b[0;32m    107\u001b[0m \u001b[39mtry\u001b[39;00m:\n\u001b[1;32m--> 108\u001b[0m     \u001b[39mimport\u001b[39;00m \u001b[39mpyaudio\u001b[39;00m\n\u001b[0;32m    109\u001b[0m \u001b[39mexcept\u001b[39;00m \u001b[39mImportError\u001b[39;00m:\n",
      "\u001b[1;31mModuleNotFoundError\u001b[0m: No module named 'pyaudio'",
      "\nDuring handling of the above exception, another exception occurred:\n",
      "\u001b[1;31mAttributeError\u001b[0m                            Traceback (most recent call last)",
      "Cell \u001b[1;32mIn[27], line 5\u001b[0m\n\u001b[0;32m      3\u001b[0m \u001b[39m#while True:\u001b[39;00m\n\u001b[0;32m      4\u001b[0m \u001b[39mif\u001b[39;00m \u001b[39m1\u001b[39m:\n\u001b[1;32m----> 5\u001b[0m     query \u001b[39m=\u001b[39m command()\u001b[39m.\u001b[39mlower()\n\u001b[0;32m      7\u001b[0m     \u001b[39m# Logic for executing tasks based on query\u001b[39;00m\n\u001b[0;32m      8\u001b[0m     \u001b[39mif\u001b[39;00m \u001b[39m'\u001b[39m\u001b[39mwikipedia\u001b[39m\u001b[39m'\u001b[39m \u001b[39min\u001b[39;00m query:\n",
      "Cell \u001b[1;32mIn[26], line 5\u001b[0m, in \u001b[0;36mcommand\u001b[1;34m()\u001b[0m\n\u001b[0;32m      1\u001b[0m \u001b[39mdef\u001b[39;00m \u001b[39mcommand\u001b[39m():\n\u001b[0;32m      4\u001b[0m     r \u001b[39m=\u001b[39m sr\u001b[39m.\u001b[39mRecognizer()\n\u001b[1;32m----> 5\u001b[0m     \u001b[39mwith\u001b[39;00m sr\u001b[39m.\u001b[39;49mMicrophone() \u001b[39mas\u001b[39;00m source:\n\u001b[0;32m      6\u001b[0m         \u001b[39mprint\u001b[39m(\u001b[39m\"\u001b[39m\u001b[39mListening...\u001b[39m\u001b[39m\"\u001b[39m)\n\u001b[0;32m      7\u001b[0m         r\u001b[39m.\u001b[39mpause_threshold \u001b[39m=\u001b[39m \u001b[39m1.2\u001b[39m\n",
      "File \u001b[1;32mc:\\Users\\saksh\\AppData\\Local\\Programs\\Python\\Python311\\Lib\\site-packages\\speech_recognition\\__init__.py:80\u001b[0m, in \u001b[0;36mMicrophone.__init__\u001b[1;34m(self, device_index, sample_rate, chunk_size)\u001b[0m\n\u001b[0;32m     77\u001b[0m \u001b[39massert\u001b[39;00m \u001b[39misinstance\u001b[39m(chunk_size, \u001b[39mint\u001b[39m) \u001b[39mand\u001b[39;00m chunk_size \u001b[39m>\u001b[39m \u001b[39m0\u001b[39m, \u001b[39m\"\u001b[39m\u001b[39mChunk size must be a positive integer\u001b[39m\u001b[39m\"\u001b[39m\n\u001b[0;32m     79\u001b[0m \u001b[39m# set up PyAudio\u001b[39;00m\n\u001b[1;32m---> 80\u001b[0m \u001b[39mself\u001b[39m\u001b[39m.\u001b[39mpyaudio_module \u001b[39m=\u001b[39m \u001b[39mself\u001b[39;49m\u001b[39m.\u001b[39;49mget_pyaudio()\n\u001b[0;32m     81\u001b[0m audio \u001b[39m=\u001b[39m \u001b[39mself\u001b[39m\u001b[39m.\u001b[39mpyaudio_module\u001b[39m.\u001b[39mPyAudio()\n\u001b[0;32m     82\u001b[0m \u001b[39mtry\u001b[39;00m:\n",
      "File \u001b[1;32mc:\\Users\\saksh\\AppData\\Local\\Programs\\Python\\Python311\\Lib\\site-packages\\speech_recognition\\__init__.py:110\u001b[0m, in \u001b[0;36mMicrophone.get_pyaudio\u001b[1;34m()\u001b[0m\n\u001b[0;32m    108\u001b[0m     \u001b[39mimport\u001b[39;00m \u001b[39mpyaudio\u001b[39;00m\n\u001b[0;32m    109\u001b[0m \u001b[39mexcept\u001b[39;00m \u001b[39mImportError\u001b[39;00m:\n\u001b[1;32m--> 110\u001b[0m     \u001b[39mraise\u001b[39;00m \u001b[39mAttributeError\u001b[39;00m(\u001b[39m\"\u001b[39m\u001b[39mCould not find PyAudio; check installation\u001b[39m\u001b[39m\"\u001b[39m)\n\u001b[0;32m    111\u001b[0m \u001b[39mfrom\u001b[39;00m \u001b[39mdistutils\u001b[39;00m\u001b[39m.\u001b[39;00m\u001b[39mversion\u001b[39;00m \u001b[39mimport\u001b[39;00m LooseVersion\n\u001b[0;32m    112\u001b[0m \u001b[39mif\u001b[39;00m LooseVersion(pyaudio\u001b[39m.\u001b[39m__version__) \u001b[39m<\u001b[39m LooseVersion(\u001b[39m\"\u001b[39m\u001b[39m0.2.11\u001b[39m\u001b[39m\"\u001b[39m):\n",
      "\u001b[1;31mAttributeError\u001b[0m: Could not find PyAudio; check installation"
     ]
    }
   ],
   "source": [
    "if __name__ == \"__main__\":\n",
    "    greet()\n",
    "    #while True:\n",
    "    if 1:\n",
    "        query = command().lower()\n",
    "\n",
    "        # Logic for executing tasks based on query\n",
    "        if 'wikipedia' in query:\n",
    "            speak('Searching Wikipedia...')\n",
    "            query = query.replace(\"wikipedia\", \"\")\n",
    "            results = wikipedia.summary(f'{query}', sentences=2)\n",
    "            speak(\"According to Wikipedia\")\n",
    "            print(results)\n",
    "            speak(results)\n",
    "\n",
    "        elif 'open instagram' in query:\n",
    "            webbrowser.open(\"instagram.com\")\n",
    "        \n",
    "        elif 'open youtube' in query:\n",
    "            webbrowser.open(\"youtube.com\")\n",
    "\n",
    "        elif 'open google' in query:\n",
    "            webbrowser.open(\"google.com\")\n",
    "\n",
    "        elif 'open kaggle' in query:\n",
    "            webbrowser.open(\"kaggle.com\") \n",
    "            \n",
    "        \n",
    "        elif 'the weather'in query:\n",
    "            webbrowser.open(\"weather.com\")   \n",
    "\n",
    "        elif 'the score' in query:\n",
    "            webbrowser.open(\"cricbuzz.com\") \n",
    "\n",
    "\n",
    "        elif 'play music' in query:\n",
    "            music_dir = 'Urban Sound\\\\fold2'\n",
    "            songs = os.listdir(music_dir)\n",
    "            print(songs)    \n",
    "            os.startfile(os.path.join(music_dir, songs[0]))\n",
    "\n",
    "        elif 'the time' in query:\n",
    "            strTime = datetime.datetime.now().strftime(\"%H:%M:%S\")    \n",
    "            speak(f\"Sir, the time is {strTime}\")\n",
    "\n",
    "        elif 'open anaconda' in query:\n",
    "            condapath = \"C:\\\\Users\\\\saksham\\\\anaconda3\"\n",
    "            os.startfile(condapath) \n",
    "        \n",
    "        elif 'discord' in query:\n",
    "            calpath = \"C:\\\\Users\\\\saksham\\\\AppData\\\\Local\\\\Discord\\\\app-1.0.9003\"\n",
    "            os.startfile(calpath)"
   ]
  }
 ],
 "metadata": {
  "kernelspec": {
   "display_name": "Python 3 (ipykernel)",
   "language": "python",
   "name": "python3"
  },
  "language_info": {
   "codemirror_mode": {
    "name": "ipython",
    "version": 3
   },
   "file_extension": ".py",
   "mimetype": "text/x-python",
   "name": "python",
   "nbconvert_exporter": "python",
   "pygments_lexer": "ipython3",
   "version": "3.11.1"
  }
 },
 "nbformat": 4,
 "nbformat_minor": 5
}
